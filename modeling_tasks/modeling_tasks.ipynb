{
 "cells": [
  {
   "cell_type": "markdown",
   "metadata": {},
   "source": [
    "# Continual Learning Modeling Tasks - Reducing Catastrophic Forgetting"
   ]
  },
  {
   "cell_type": "markdown",
   "metadata": {},
   "source": [
    "## Introduction\n",
    "Overview and Context\n",
    "\n",
    "Continual learning in LLMs aims to enable these models to learn new tasks and adapt to new data without forgetting previously learned information. This project addresses the challenge of catastrophic forgetting by enhancing GPT models with continual learning capabilities. This advancement has significant potential applications in automated customer service and dynamic content creation.\n",
    "\n",
    "Goal\n",
    "\n",
    "To explore methods for enabling LLMs to continually learn and adapt to new data or tasks without forgetting previously learned information, thereby addressing catastrophic forgetting.\n",
    "\n",
    "Objectives\n",
    "1. Mitigate Catastrophic Forgetting: Implement and test Elastic Weight Consolidation (EWC) on GPT-2.\n",
    "2. Adapt GPT for Continual Learning: Integrate continual learning mechanisms within the Transformer architecture.\n",
    "3. Evaluate Model Performance: Use backward and forward transfer metrics to measure performance on old vs. new tasks.\n",
    "4. Understand Transformer Architecture: Explore the self-attention mechanisms and their scalability in transformers.\n",
    "\n",
    "## Dataset Description\n",
    "Dataset: WikiText-103\n",
    "• Description: A collection of over 100 million tokens from verified Good and Featured articles on Wikipedia.\n",
    "• Usage: To test the model’s ability to learn continually and adapt over time.\n"
   ]
  },
  {
   "cell_type": "markdown",
   "metadata": {},
   "source": [
    "## Step 1: Elastic Weight Consolidation (EWC)"
   ]
  },
  {
   "cell_type": "markdown",
   "metadata": {},
   "source": [
    "- **Model Setup**: Load GPT-2 model."
   ]
  },
  {
   "cell_type": "code",
   "execution_count": 51,
   "metadata": {},
   "outputs": [],
   "source": [
    "from transformers import GPT2LMHeadModel, GPT2Tokenizer, AdamW\n",
    "import torch\n",
    "import torch.nn as nn\n",
    "import torch.optim as optim\n",
    "from datasets import load_dataset\n",
    "from torch.utils.data import DataLoader"
   ]
  },
  {
   "cell_type": "code",
   "execution_count": 52,
   "metadata": {},
   "outputs": [],
   "source": [
    "model_name = 'gpt2'\n",
    "model = GPT2LMHeadModel.from_pretrained(model_name)\n",
    "tokenizer = GPT2Tokenizer.from_pretrained(model_name)"
   ]
  },
  {
   "cell_type": "code",
   "execution_count": 53,
   "metadata": {},
   "outputs": [
    {
     "data": {
      "text/plain": [
       "Embedding(50258, 768)"
      ]
     },
     "execution_count": 53,
     "metadata": {},
     "output_type": "execute_result"
    }
   ],
   "source": [
    "# Add pad token\n",
    "tokenizer.add_special_tokens({'pad_token': '[PAD]'})\n",
    "model.resize_token_embeddings(len(tokenizer))"
   ]
  },
  {
   "cell_type": "markdown",
   "metadata": {},
   "source": [
    "#### Read the Dataset"
   ]
  },
  {
   "cell_type": "code",
   "execution_count": 54,
   "metadata": {},
   "outputs": [],
   "source": [
    "# Load dataset\n",
    "dataset = load_dataset(\"wikitext\", \"wikitext-103-raw-v1\")\n",
    "\n",
    "# Select a smaller subset of the dataset\n",
    "small_dataset = dataset['train'].select(range(100)) \n",
    "\n",
    "# Convert the dataset to DataLoader\n",
    "train_dataloader = DataLoader(small_dataset, batch_size=4, shuffle=True)"
   ]
  },
  {
   "cell_type": "markdown",
   "metadata": {},
   "source": [
    "**Fisher Information Matrix Calculation:** calculating the Fisher Information Matrix (FIM) is an essential part of the Elastic Weight Consolidation (EWC) method used to mitigate catastrophic forgetting in neural networks."
   ]
  },
  {
   "cell_type": "code",
   "execution_count": 55,
   "metadata": {},
   "outputs": [],
   "source": [
    "# Define Fisher Information Matrix Calculation\n",
    "def compute_fisher_information(model, dataloader):\n",
    "    model.eval()\n",
    "    fisher_information = {n: torch.zeros(p.shape).to(p.device) for n, p in model.named_parameters() if p.requires_grad}\n",
    "    criterion = nn.CrossEntropyLoss()\n",
    "    \n",
    "    for batch in dataloader:\n",
    "        inputs = tokenizer(batch['text'], return_tensors='pt', padding=True, truncation=True)\n",
    "        inputs = {k: v.to(model.device) for k, v in inputs.items()}\n",
    "        targets = inputs['input_ids'].clone()\n",
    "        \n",
    "        if targets.numel() == 0:  # Check for empty sequences\n",
    "            continue\n",
    "        \n",
    "        model.zero_grad()\n",
    "        outputs = model(**inputs)\n",
    "        loss = criterion(outputs.logits.view(-1, model.config.vocab_size), targets.view(-1))\n",
    "        loss.backward()\n",
    "\n",
    "        for n, p in model.named_parameters():\n",
    "            if p.requires_grad:\n",
    "                fisher_information[n] += p.grad.pow(2)\n",
    "    \n",
    "    for n in fisher_information:\n",
    "        fisher_information[n] /= len(dataloader)\n",
    "    \n",
    "    return fisher_information"
   ]
  },
  {
   "cell_type": "markdown",
   "metadata": {},
   "source": [
    "- **EWC Regularization**"
   ]
  },
  {
   "cell_type": "code",
   "execution_count": 56,
   "metadata": {},
   "outputs": [],
   "source": [
    "# Define EWC Regularization Term in the Loss Function\n",
    "class EWC:\n",
    "    def __init__(self, model, dataloader, lambda_=0.4):\n",
    "        self.model = model\n",
    "        self.lambda_ = lambda_\n",
    "        self.fisher_information = compute_fisher_information(model, dataloader)\n",
    "        self.optimal_params = {n: p.clone().detach() for n, p in model.named_parameters() if p.requires_grad}\n",
    "\n",
    "    def penalty(self, model):\n",
    "        loss = 0\n",
    "        for n, p in model.named_parameters():\n",
    "            if p.requires_grad:\n",
    "                _loss = self.fisher_information[n] * (p - self.optimal_params[n]).pow(2)\n",
    "                loss += _loss.sum()\n",
    "        return (self.lambda_ / 2) * loss"
   ]
  },
  {
   "cell_type": "code",
   "execution_count": 57,
   "metadata": {},
   "outputs": [],
   "source": [
    "# Define evaluation function for old task\n",
    "def evaluate_on_old_task(model, dataloader):\n",
    "    model.eval()\n",
    "    total_loss = 0\n",
    "    criterion = nn.CrossEntropyLoss()\n",
    "    \n",
    "    with torch.no_grad():\n",
    "        for batch in dataloader:\n",
    "            inputs = tokenizer(batch['text'], return_tensors='pt', padding=True, truncation=True)\n",
    "            inputs = {k: v.to(model.device) for k, v in inputs.items()}\n",
    "            targets = inputs['input_ids'].clone()\n",
    "            if targets.numel() == 0:\n",
    "                continue\n",
    "            \n",
    "            outputs = model(**inputs)\n",
    "            loss = criterion(outputs.logits.view(-1, model.config.vocab_size), targets.view(-1))\n",
    "            total_loss += loss.item()\n",
    "    \n",
    "    avg_loss = total_loss / len(dataloader)\n",
    "    print(f\"Average Loss on Old Task: {avg_loss}\")\n",
    "    return avg_loss"
   ]
  },
  {
   "cell_type": "code",
   "execution_count": 58,
   "metadata": {},
   "outputs": [
    {
     "name": "stdout",
     "output_type": "stream",
     "text": [
      "Average Loss on Old Task: 36.94977851867676\n"
     ]
    }
   ],
   "source": [
    "# Evaluate initial performance on the old task\n",
    "initial_loss_old_task = evaluate_on_old_task(model, train_dataloader)  "
   ]
  },
  {
   "cell_type": "markdown",
   "metadata": {},
   "source": [
    "Without any optimizer and EWC training on the model, the average loss is relatively high (45.75 for 50 sample dataset, 36.95 for 100 sample dataset)"
   ]
  },
  {
   "cell_type": "code",
   "execution_count": 59,
   "metadata": {},
   "outputs": [],
   "source": [
    "# Train model on new task without EWC\n",
    "def train_without_ewc(model, dataloader, optimizer, epochs=3):\n",
    "    criterion = nn.CrossEntropyLoss()\n",
    "    model.train()\n",
    "    \n",
    "    for epoch in range(epochs):\n",
    "        for batch in dataloader:\n",
    "            inputs = tokenizer(batch['text'], return_tensors='pt', padding=True, truncation=True)\n",
    "            inputs = {k: v.to(model.device) for k, v in inputs.items()}\n",
    "            targets = inputs['input_ids'].clone()\n",
    "            if targets.numel() == 0:\n",
    "                continue\n",
    "            \n",
    "            optimizer.zero_grad()\n",
    "            outputs = model(**inputs)\n",
    "            loss = criterion(outputs.logits.view(-1, model.config.vocab_size), targets.view(-1))\n",
    "            loss.backward()\n",
    "            optimizer.step()\n",
    "            \n",
    "            print(f\"Epoch {epoch+1}, Loss: {loss.item()}\")"
   ]
  },
  {
   "cell_type": "code",
   "execution_count": 60,
   "metadata": {},
   "outputs": [],
   "source": [
    "# Initialize optimizer for training without EWC\n",
    "optimizer_without_ewc = optim.Adam(model.parameters(), lr=5e-5)"
   ]
  },
  {
   "cell_type": "code",
   "execution_count": 61,
   "metadata": {},
   "outputs": [
    {
     "name": "stdout",
     "output_type": "stream",
     "text": [
      "Epoch 1, Loss: 39.88058090209961\n",
      "Epoch 1, Loss: 30.928239822387695\n",
      "Epoch 1, Loss: 23.43995475769043\n",
      "Epoch 1, Loss: 18.15724754333496\n",
      "Epoch 1, Loss: 9.123306274414062\n",
      "Epoch 1, Loss: 10.308950424194336\n",
      "Epoch 1, Loss: 11.038313865661621\n",
      "Epoch 1, Loss: 6.5043253898620605\n",
      "Epoch 1, Loss: 10.436527252197266\n",
      "Epoch 1, Loss: 6.038282871246338\n",
      "Epoch 1, Loss: 4.376773357391357\n",
      "Epoch 1, Loss: 6.483856678009033\n",
      "Epoch 1, Loss: 4.479620456695557\n",
      "Epoch 1, Loss: 3.5722339153289795\n",
      "Epoch 1, Loss: 3.2003958225250244\n",
      "Epoch 1, Loss: 4.9409894943237305\n",
      "Epoch 1, Loss: 4.029125690460205\n",
      "Epoch 1, Loss: 2.415905475616455\n",
      "Epoch 1, Loss: 7.3519415855407715\n",
      "Epoch 1, Loss: 3.558713436126709\n",
      "Epoch 1, Loss: 3.0454163551330566\n",
      "Epoch 1, Loss: 5.623571395874023\n",
      "Epoch 1, Loss: 2.1449193954467773\n",
      "Epoch 1, Loss: 6.932829856872559\n",
      "Epoch 1, Loss: 3.3559679985046387\n",
      "Epoch 2, Loss: 2.047531843185425\n",
      "Epoch 2, Loss: 4.4559407234191895\n",
      "Epoch 2, Loss: 3.3338167667388916\n",
      "Epoch 2, Loss: 2.953453540802002\n",
      "Epoch 2, Loss: 2.510204553604126\n",
      "Epoch 2, Loss: 2.208465099334717\n",
      "Epoch 2, Loss: 1.9330263137817383\n",
      "Epoch 2, Loss: 2.0113842487335205\n",
      "Epoch 2, Loss: 3.1254444122314453\n",
      "Epoch 2, Loss: 3.000749349594116\n",
      "Epoch 2, Loss: 1.6214238405227661\n",
      "Epoch 2, Loss: 3.0720150470733643\n",
      "Epoch 2, Loss: 2.9449355602264404\n",
      "Epoch 2, Loss: 1.9766833782196045\n",
      "Epoch 2, Loss: 2.035282611846924\n",
      "Epoch 2, Loss: 3.475200891494751\n",
      "Epoch 2, Loss: 2.355302572250366\n",
      "Epoch 2, Loss: 3.600398302078247\n",
      "Epoch 2, Loss: 1.8243848085403442\n",
      "Epoch 2, Loss: 2.1907753944396973\n",
      "Epoch 2, Loss: 1.6918894052505493\n",
      "Epoch 2, Loss: 1.531899333000183\n",
      "Epoch 2, Loss: 0.9445839524269104\n",
      "Epoch 2, Loss: 0.859573483467102\n",
      "Epoch 2, Loss: 1.5314640998840332\n",
      "Epoch 3, Loss: 0.8688300848007202\n",
      "Epoch 3, Loss: 1.1322317123413086\n",
      "Epoch 3, Loss: 1.2623419761657715\n",
      "Epoch 3, Loss: 1.4849317073822021\n",
      "Epoch 3, Loss: 0.9591935276985168\n",
      "Epoch 3, Loss: 1.6302886009216309\n",
      "Epoch 3, Loss: 1.1078962087631226\n",
      "Epoch 3, Loss: 0.864504873752594\n",
      "Epoch 3, Loss: 0.7025363445281982\n",
      "Epoch 3, Loss: 0.5343470573425293\n",
      "Epoch 3, Loss: 0.5090721845626831\n",
      "Epoch 3, Loss: 0.43345722556114197\n",
      "Epoch 3, Loss: 0.4066413938999176\n",
      "Epoch 3, Loss: 0.5456832051277161\n",
      "Epoch 3, Loss: 0.7588279247283936\n",
      "Epoch 3, Loss: 0.4823002517223358\n",
      "Epoch 3, Loss: 0.6658480763435364\n",
      "Epoch 3, Loss: 0.9623905420303345\n",
      "Epoch 3, Loss: 0.44366925954818726\n",
      "Epoch 3, Loss: 0.30482199788093567\n",
      "Epoch 3, Loss: 0.4361521303653717\n",
      "Epoch 3, Loss: 0.5110409259796143\n",
      "Epoch 3, Loss: 0.5619194507598877\n",
      "Epoch 3, Loss: 0.5301370024681091\n"
     ]
    }
   ],
   "source": [
    "# Train the model on the new task\n",
    "train_without_ewc(model, train_dataloader, optimizer_without_ewc)"
   ]
  },
  {
   "cell_type": "code",
   "execution_count": 62,
   "metadata": {},
   "outputs": [
    {
     "name": "stdout",
     "output_type": "stream",
     "text": [
      "Average Loss on Old Task: 0.30981976598501204\n"
     ]
    }
   ],
   "source": [
    "# Evaluate performance on the old task after training on the new task without EWC\n",
    "loss_after_training_without_ewc = evaluate_on_old_task(model, train_dataloader)"
   ]
  },
  {
   "cell_type": "markdown",
   "metadata": {},
   "source": [
    "After initializing the optimizer for training the model, the average loss decreased rapidly (2.76 for 50 sample dataset, 0.3 for 100 sample dataset)."
   ]
  },
  {
   "cell_type": "markdown",
   "metadata": {},
   "source": [
    "- **Training**: Implement training with EWC."
   ]
  },
  {
   "cell_type": "code",
   "execution_count": 63,
   "metadata": {},
   "outputs": [],
   "source": [
    "# Training Loop with EWC\n",
    "def train_with_ewc(model, train_dataloader, ewc, optimizer, epochs=3):\n",
    "    criterion = nn.CrossEntropyLoss()\n",
    "    model.train()\n",
    "    \n",
    "    for epoch in range(epochs):\n",
    "        for batch in train_dataloader:\n",
    "            inputs = tokenizer(batch['text'], return_tensors='pt', padding=True, truncation=True)\n",
    "            inputs = {k: v.to(model.device) for k, v in inputs.items()}\n",
    "            targets = inputs['input_ids'].clone()\n",
    "            \n",
    "            if targets.numel() == 0:  # Check for empty sequences\n",
    "                continue\n",
    "            \n",
    "            outputs = model(**inputs)\n",
    "            loss = criterion(outputs.logits.view(-1, model.config.vocab_size), targets.view(-1))\n",
    "            ewc_loss = ewc.penalty(model)\n",
    "            total_loss = loss + ewc_loss\n",
    "            \n",
    "            optimizer.zero_grad()\n",
    "            total_loss.backward()\n",
    "            optimizer.step()\n",
    "\n",
    "            print(f\"Epoch {epoch+1}, Loss: {total_loss.item()}\")"
   ]
  },
  {
   "cell_type": "code",
   "execution_count": 64,
   "metadata": {},
   "outputs": [],
   "source": [
    "# Evaluate Model Performance\n",
    "def evaluate_model(model, dataloader):\n",
    "    model.eval()\n",
    "    total_loss = 0\n",
    "    criterion = nn.CrossEntropyLoss()\n",
    "    \n",
    "    with torch.no_grad():\n",
    "        for batch in dataloader:\n",
    "            inputs = tokenizer(batch['text'], return_tensors='pt', padding=True, truncation=True)\n",
    "            inputs = {k: v.to(model.device) for k, v in inputs.items()}\n",
    "            targets = inputs['input_ids'].clone()\n",
    "            \n",
    "            if targets.numel() == 0:  # Check for empty sequences\n",
    "                continue\n",
    "            \n",
    "            outputs = model(**inputs)\n",
    "            loss = criterion(outputs.logits.view(-1, model.config.vocab_size), targets.view(-1))\n",
    "            total_loss += loss.item()\n",
    "    \n",
    "    avg_loss = total_loss / len(dataloader)\n",
    "    print(f\"Average Loss: {avg_loss}\")\n",
    "    return avg_loss\n"
   ]
  },
  {
   "cell_type": "code",
   "execution_count": 65,
   "metadata": {},
   "outputs": [
    {
     "name": "stdout",
     "output_type": "stream",
     "text": [
      "Epoch 1, Loss: 0.36142903566360474\n",
      "Epoch 1, Loss: 0.37427768111228943\n",
      "Epoch 1, Loss: 0.21519066393375397\n",
      "Epoch 1, Loss: 0.260184645652771\n",
      "Epoch 1, Loss: 0.27208632230758667\n",
      "Epoch 1, Loss: 0.7719264626502991\n",
      "Epoch 1, Loss: 0.2463414967060089\n",
      "Epoch 1, Loss: 0.1594952493906021\n",
      "Epoch 1, Loss: 0.22791917622089386\n",
      "Epoch 1, Loss: 0.339248925447464\n",
      "Epoch 1, Loss: 0.1523289531469345\n",
      "Epoch 1, Loss: 0.7252788543701172\n",
      "Epoch 1, Loss: 0.26625919342041016\n",
      "Epoch 1, Loss: 0.1510256677865982\n",
      "Epoch 1, Loss: 0.2001023143529892\n",
      "Epoch 1, Loss: 0.1504552662372589\n",
      "Epoch 1, Loss: 0.24973703920841217\n",
      "Epoch 1, Loss: 0.1652706414461136\n",
      "Epoch 1, Loss: 0.1875583976507187\n",
      "Epoch 1, Loss: 0.15624909102916718\n",
      "Epoch 1, Loss: 0.1555921733379364\n",
      "Epoch 1, Loss: 0.11466293036937714\n",
      "Epoch 1, Loss: 0.1890484094619751\n",
      "Epoch 1, Loss: 0.09210159629583359\n",
      "Epoch 1, Loss: 0.1794268935918808\n",
      "Epoch 2, Loss: 0.13263536989688873\n",
      "Epoch 2, Loss: 0.13463184237480164\n",
      "Epoch 2, Loss: 0.07543867826461792\n",
      "Epoch 2, Loss: 0.1082070842385292\n",
      "Epoch 2, Loss: 0.07172822207212448\n",
      "Epoch 2, Loss: 0.08559224754571915\n",
      "Epoch 2, Loss: 0.11098983138799667\n",
      "Epoch 2, Loss: 0.3568098843097687\n",
      "Epoch 2, Loss: 0.0727401077747345\n",
      "Epoch 2, Loss: 0.12647300958633423\n",
      "Epoch 2, Loss: 0.06808211654424667\n",
      "Epoch 2, Loss: 0.06965074688196182\n",
      "Epoch 2, Loss: 0.06448061019182205\n",
      "Epoch 2, Loss: 0.15238814055919647\n",
      "Epoch 2, Loss: 0.05858979746699333\n",
      "Epoch 2, Loss: 0.05116189271211624\n",
      "Epoch 2, Loss: 0.04944934695959091\n",
      "Epoch 2, Loss: 0.07569248974323273\n",
      "Epoch 2, Loss: 0.04484841972589493\n",
      "Epoch 2, Loss: 0.2869654595851898\n",
      "Epoch 2, Loss: 0.072606161236763\n",
      "Epoch 2, Loss: 0.04868517071008682\n",
      "Epoch 2, Loss: 0.04385245963931084\n",
      "Epoch 2, Loss: 0.12954652309417725\n",
      "Epoch 2, Loss: 0.050186268985271454\n",
      "Epoch 3, Loss: 0.04368551820516586\n",
      "Epoch 3, Loss: 0.09580908715724945\n",
      "Epoch 3, Loss: 0.0776296928524971\n",
      "Epoch 3, Loss: 0.031799331307411194\n",
      "Epoch 3, Loss: 0.05945362523198128\n",
      "Epoch 3, Loss: 0.047095321118831635\n",
      "Epoch 3, Loss: 0.024689484387636185\n",
      "Epoch 3, Loss: 0.030899154022336006\n",
      "Epoch 3, Loss: 0.04200802370905876\n",
      "Epoch 3, Loss: 0.04931305721402168\n",
      "Epoch 3, Loss: 0.10920869559049606\n",
      "Epoch 3, Loss: 0.07627610862255096\n",
      "Epoch 3, Loss: 0.05414868891239166\n",
      "Epoch 3, Loss: 0.05348820984363556\n",
      "Epoch 3, Loss: 0.04038190841674805\n",
      "Epoch 3, Loss: 0.05338401719927788\n",
      "Epoch 3, Loss: 0.19423289597034454\n",
      "Epoch 3, Loss: 0.07939905673265457\n",
      "Epoch 3, Loss: 0.02977246418595314\n",
      "Epoch 3, Loss: 0.04786940664052963\n",
      "Epoch 3, Loss: 0.04166027531027794\n",
      "Epoch 3, Loss: 0.06005512550473213\n",
      "Epoch 3, Loss: 0.029972035437822342\n",
      "Epoch 3, Loss: 0.07547418773174286\n",
      "Epoch 3, Loss: 0.025067783892154694\n",
      "Average Loss: 0.09918553963303565\n"
     ]
    },
    {
     "data": {
      "text/plain": [
       "0.09918553963303565"
      ]
     },
     "execution_count": 65,
     "metadata": {},
     "output_type": "execute_result"
    }
   ],
   "source": [
    "# Initialize EWC\n",
    "ewc = EWC(model, train_dataloader)\n",
    "optimizer = optim.Adam(model.parameters(), lr=5e-5)\n",
    "\n",
    "# Train the model with EWC\n",
    "train_with_ewc(model, train_dataloader, ewc, optimizer)\n",
    "\n",
    "# Evaluate the model\n",
    "evaluate_model(model, train_dataloader)"
   ]
  },
  {
   "cell_type": "markdown",
   "metadata": {},
   "source": [
    "After using EWC, the performance is better, the average loss becomes 0.113, however, the training time is 8m50s, on 50 sample dataset. On the 100 sample dataset, the average loss is 0.099, the training time is 14m38s."
   ]
  },
  {
   "cell_type": "markdown",
   "metadata": {},
   "source": [
    "## Step 2: Progressive Prompts"
   ]
  },
  {
   "cell_type": "markdown",
   "metadata": {},
   "source": [
    "#### Define the progressive prompt class"
   ]
  },
  {
   "cell_type": "code",
   "execution_count": 66,
   "metadata": {},
   "outputs": [],
   "source": [
    "class ProgressivePrompt(nn.Module):\n",
    "    def __init__(self, model, tokenizer):\n",
    "        super(ProgressivePrompt, self).__init__()\n",
    "        self.model = model\n",
    "        self.tokenizer = tokenizer\n",
    "        self.prompt_embeddings = nn.ParameterList()\n",
    "    \n",
    "    def add_prompt(self, new_prompt):\n",
    "        prompt_ids = self.tokenizer(new_prompt, return_tensors='pt').input_ids\n",
    "        prompt_embeddings = self.model.transformer.wte(prompt_ids)\n",
    "        self.prompt_embeddings.append(nn.Parameter(prompt_embeddings.squeeze(0)))\n",
    "\n",
    "    def forward(self, input_ids):\n",
    "        batch_size = input_ids.size(0)\n",
    "        prompt_embeds = torch.cat([prompt_embed.unsqueeze(0) for prompt_embed in self.prompt_embeddings], dim=1)\n",
    "        prompt_embeds = prompt_embeds.expand(batch_size, -1, -1)\n",
    "        inputs_embeds = self.model.transformer.wte(input_ids)\n",
    "        inputs_embeds = torch.cat([prompt_embeds, inputs_embeds], dim=1)\n",
    "        labels = torch.cat([torch.full((batch_size, prompt_embeds.size(1)), -100).to(input_ids.device), input_ids], dim=1)\n",
    "        return self.model(inputs_embeds=inputs_embeds, labels=labels)\n",
    "\n",
    "    def get_combined_prompt_text(self):\n",
    "        return \" \".join([self.tokenizer.decode(prompt_embed.detach().cpu().numpy()) for prompt_embed in self.prompt_embeddings])"
   ]
  },
  {
   "cell_type": "markdown",
   "metadata": {},
   "source": [
    "#### Fine-tune the model with trainable prompts"
   ]
  },
  {
   "cell_type": "code",
   "execution_count": 67,
   "metadata": {},
   "outputs": [],
   "source": [
    "def fine_tune_with_progressive_prompts(model, tokenizer, data_loader, progressive_prompt, new_prompt_text, epochs=3, lr=5e-5):\n",
    "    # Add the new prompt to the model\n",
    "    progressive_prompt.add_prompt(new_prompt_text)\n",
    "    \n",
    "    optimizer = AdamW(progressive_prompt.parameters(), lr=lr)\n",
    "    \n",
    "    model.train()\n",
    "    for epoch in range(epochs):\n",
    "        for batch in data_loader:\n",
    "            inputs = tokenizer(batch['text'], return_tensors='pt', padding=True, truncation=True).input_ids\n",
    "            inputs = inputs.to(model.device).long()\n",
    "            \n",
    "            optimizer.zero_grad()\n",
    "            \n",
    "            outputs = progressive_prompt(inputs)\n",
    "            loss = outputs.loss\n",
    "            loss.backward()\n",
    "            optimizer.step()\n",
    "            \n",
    "            print(f\"Epoch {epoch + 1}, Loss: {loss.item()}\")\n",
    "    \n",
    "    return model"
   ]
  },
  {
   "cell_type": "code",
   "execution_count": 69,
   "metadata": {},
   "outputs": [],
   "source": [
    "def evaluate_model(model, tokenizer, test_data):\n",
    "    model.eval()\n",
    "    losses = []\n",
    "    for text in test_data:\n",
    "        inputs = tokenizer(text, return_tensors='pt').input_ids\n",
    "        inputs = inputs.to(model.device)\n",
    "        labels = inputs.clone()\n",
    "        \n",
    "        with torch.no_grad():\n",
    "            outputs = model(inputs, labels=labels)\n",
    "            loss = outputs.loss.item()\n",
    "            losses.append(loss)\n",
    "    \n",
    "    avg_loss = sum(losses) / len(losses)\n",
    "    print(f\"Average Loss: {avg_loss}\")\n",
    "    return avg_loss"
   ]
  },
  {
   "cell_type": "code",
   "execution_count": 70,
   "metadata": {},
   "outputs": [
    {
     "name": "stdout",
     "output_type": "stream",
     "text": [
      "Epoch 1, Loss: 1.7333935499191284\n",
      "Epoch 1, Loss: 2.808159112930298\n",
      "Epoch 1, Loss: 2.3256754875183105\n",
      "Epoch 1, Loss: 2.296097993850708\n",
      "Epoch 1, Loss: 1.0251165628433228\n",
      "Epoch 1, Loss: 1.7925424575805664\n",
      "Epoch 1, Loss: 1.0886930227279663\n",
      "Epoch 1, Loss: 1.1101934909820557\n",
      "Epoch 1, Loss: 1.1167850494384766\n",
      "Epoch 1, Loss: 1.499448537826538\n",
      "Epoch 1, Loss: 1.4998842477798462\n",
      "Epoch 1, Loss: 1.2980015277862549\n",
      "Epoch 1, Loss: 1.7631909847259521\n",
      "Epoch 1, Loss: 2.013593912124634\n",
      "Epoch 1, Loss: 2.419537305831909\n",
      "Epoch 1, Loss: 1.0160659551620483\n",
      "Epoch 1, Loss: 1.3119125366210938\n",
      "Epoch 1, Loss: 1.5501508712768555\n",
      "Epoch 1, Loss: 1.0795613527297974\n",
      "Epoch 1, Loss: 1.796526551246643\n",
      "Epoch 1, Loss: 1.7399340867996216\n",
      "Epoch 1, Loss: 1.2518612146377563\n",
      "Epoch 1, Loss: 1.521407961845398\n",
      "Epoch 1, Loss: 2.1559202671051025\n",
      "Epoch 1, Loss: 2.4155631065368652\n",
      "Epoch 2, Loss: 1.6019731760025024\n",
      "Epoch 2, Loss: 1.3940032720565796\n",
      "Epoch 2, Loss: 1.4069116115570068\n",
      "Epoch 2, Loss: 1.085863471031189\n",
      "Epoch 2, Loss: 1.3325560092926025\n",
      "Epoch 2, Loss: 1.7634491920471191\n",
      "Epoch 2, Loss: 1.5677462816238403\n",
      "Epoch 2, Loss: 0.936057984828949\n",
      "Epoch 2, Loss: 0.9579601287841797\n",
      "Epoch 2, Loss: 0.9987549781799316\n",
      "Epoch 2, Loss: 1.3241320848464966\n",
      "Epoch 2, Loss: 2.007486581802368\n",
      "Epoch 2, Loss: 2.1579246520996094\n",
      "Epoch 2, Loss: 2.1227753162384033\n",
      "Epoch 2, Loss: 1.2057979106903076\n",
      "Epoch 2, Loss: 2.0322015285491943\n",
      "Epoch 2, Loss: 0.8910732865333557\n",
      "Epoch 2, Loss: 1.239462971687317\n",
      "Epoch 2, Loss: 0.8727254271507263\n",
      "Epoch 2, Loss: 1.0587246417999268\n",
      "Epoch 2, Loss: 1.9694643020629883\n",
      "Epoch 2, Loss: 1.4700523614883423\n",
      "Epoch 2, Loss: 1.319863200187683\n",
      "Epoch 2, Loss: 2.269230604171753\n",
      "Epoch 2, Loss: 1.0958408117294312\n",
      "Epoch 3, Loss: 1.5455482006072998\n",
      "Epoch 3, Loss: 1.7891526222229004\n",
      "Epoch 3, Loss: 1.6652659177780151\n",
      "Epoch 3, Loss: 1.2070438861846924\n",
      "Epoch 3, Loss: 0.7927820086479187\n",
      "Epoch 3, Loss: 1.8973485231399536\n",
      "Epoch 3, Loss: 1.0303168296813965\n",
      "Epoch 3, Loss: 0.9708738923072815\n",
      "Epoch 3, Loss: 0.8895268440246582\n",
      "Epoch 3, Loss: 1.6654300689697266\n",
      "Epoch 3, Loss: 1.7027647495269775\n",
      "Epoch 3, Loss: 2.0327494144439697\n",
      "Epoch 3, Loss: 0.6150044798851013\n",
      "Epoch 3, Loss: 1.1273754835128784\n",
      "Epoch 3, Loss: 0.8854804635047913\n",
      "Epoch 3, Loss: 1.3577814102172852\n",
      "Epoch 3, Loss: 1.4939868450164795\n",
      "Epoch 3, Loss: 2.1578149795532227\n",
      "Epoch 3, Loss: 1.3206051588058472\n",
      "Epoch 3, Loss: 0.93817138671875\n",
      "Epoch 3, Loss: 0.6917160153388977\n",
      "Epoch 3, Loss: 0.9827935695648193\n",
      "Epoch 3, Loss: 1.4407360553741455\n",
      "Epoch 3, Loss: 1.6864140033721924\n",
      "Epoch 3, Loss: 1.3721765279769897\n",
      "Average Loss: 7.695197105407715\n"
     ]
    },
    {
     "data": {
      "text/plain": [
       "7.695197105407715"
      ]
     },
     "execution_count": 70,
     "metadata": {},
     "output_type": "execute_result"
    }
   ],
   "source": [
    "# Initialize progressive prompts\n",
    "progressive_prompt = ProgressivePrompt(model, tokenizer)\n",
    "\n",
    "# Fine-tune the model on the new task\n",
    "new_prompt_text = \"This is a new task prompt.\"\n",
    "model = fine_tune_with_progressive_prompts(model, tokenizer, train_dataloader, progressive_prompt, new_prompt_text)\n",
    "\n",
    "# Evaluate the model\n",
    "test_data = [\"Some test sentence for evaluation.\"]\n",
    "evaluate_model(model, tokenizer, test_data)"
   ]
  },
  {
   "cell_type": "markdown",
   "metadata": {},
   "source": [
    "12.93 of average loss for 50 sample dataset, 7.69 for 100 sample dataset."
   ]
  },
  {
   "cell_type": "markdown",
   "metadata": {},
   "source": [
    "## Step 3: Low-Rank Adaptation (LoRA)\n",
    "- **Model Setup**: Apply LoRA to GPT-2.\n",
    "- **Training**: Code for fine-tuning with LoRA."
   ]
  },
  {
   "cell_type": "code",
   "execution_count": null,
   "metadata": {},
   "outputs": [],
   "source": [
    "from lora import apply_lora\n",
    "\n",
    "model = apply_lora(model, rank=4)"
   ]
  },
  {
   "cell_type": "code",
   "execution_count": null,
   "metadata": {},
   "outputs": [],
   "source": []
  },
  {
   "cell_type": "markdown",
   "metadata": {},
   "source": [
    "## Evaluation\n",
    "- **Metrics**: Define and calculate backward transfer, forward transfer, perplexity, and other metrics.\n",
    "- **Results**: Present results for each method and compare."
   ]
  },
  {
   "cell_type": "code",
   "execution_count": null,
   "metadata": {},
   "outputs": [],
   "source": [
    "def calculate_metrics(model, old_task_dataset, new_task_dataset):\n",
    "    # Implement backward transfer, forward transfer, and perplexity calculations\n",
    "    pass\n",
    "\n",
    "old_task_metrics = calculate_metrics(model, old_task_dataset, new_task_dataset)\n",
    "new_task_metrics = calculate_metrics(model, new_task_dataset, old_task_dataset)"
   ]
  },
  {
   "cell_type": "code",
   "execution_count": null,
   "metadata": {},
   "outputs": [],
   "source": [
    "import matplotlib.pyplot as plt\n",
    "\n",
    "def plot_results(old_task_metrics, new_task_metrics):\n",
    "    metrics = ['backward_transfer', 'forward_transfer', 'perplexity']\n",
    "    for metric in metrics:\n",
    "        plt.figure()\n",
    "        plt.plot(old_task_metrics[metric], label='Old Task')\n",
    "        plt.plot(new_task_metrics[metric], label='New Task')\n",
    "        plt.xlabel('Epoch')\n",
    "        plt.ylabel(metric)\n",
    "        plt.legend()\n",
    "        plt.title(f'{metric} over time')\n",
    "        plt.show()\n",
    "\n",
    "plot_results(old_task_metrics, new_task_metrics)"
   ]
  },
  {
   "cell_type": "code",
   "execution_count": null,
   "metadata": {},
   "outputs": [],
   "source": []
  }
 ],
 "metadata": {
  "kernelspec": {
   "display_name": "Python 3",
   "language": "python",
   "name": "python3"
  },
  "language_info": {
   "codemirror_mode": {
    "name": "ipython",
    "version": 3
   },
   "file_extension": ".py",
   "mimetype": "text/x-python",
   "name": "python",
   "nbconvert_exporter": "python",
   "pygments_lexer": "ipython3",
   "version": "3.12.0"
  }
 },
 "nbformat": 4,
 "nbformat_minor": 2
}
